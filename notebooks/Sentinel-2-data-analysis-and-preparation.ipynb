{
 "cells": [
  {
   "cell_type": "markdown",
   "metadata": {},
   "source": [
    "# Анализ и подготовка данных Sentinel-2\n",
    "\n",
    "1. Выяснить, данные для каких территорий, за какое время, в каких CRS имеются в наличии. Сформировать таблицу со столбцами:\n",
    "    - имя директории снимка,\n",
    "    - дата съемки и время съемки,\n",
    "    - CRS,\n",
    "    - количество фрагментов,\n",
    "    - координаты верхнего левого угла каждого фрагмента,\n",
    "    - координаты верхнего левого угла верхнего левого фрагмента.\n",
    "2. Сформировать RGB-композиты, посмотреть на данные.\n",
    "3. Перевести данные 10-метровых каналов в табличный вид.\n",
    "4. Вывести гистограммы для каждого снимка, для каждого канала.\n",
    "5. Нормализовать данные.\n",
    "6. Объединить данные снимков, состоящих из нескольких фрагментов, обрезать по территории, для которой имеется наибольшее количество данных."
   ]
  },
  {
   "cell_type": "markdown",
   "metadata": {},
   "source": [
    "## Imports & configs"
   ]
  },
  {
   "cell_type": "code",
   "execution_count": 221,
   "metadata": {},
   "outputs": [],
   "source": [
    "# Imports\n",
    "\n",
    "import rasterio as rio\n",
    "import numpy as np\n",
    "import pandas as pd\n",
    "from datetime import datetime\n",
    "import re\n",
    "\n",
    "# Importing and reloading custom modules\n",
    "\n",
    "import os, sys\n",
    "from importlib import reload\n",
    "\n",
    "BASE_DIR = os.path.dirname(os.getcwd())\n",
    "if BASE_DIR not in sys.path:\n",
    "    sys.path.append(BASE_DIR)\n",
    "\n",
    "from src import config, utils\n",
    "\n",
    "custom_modules = [\n",
    "    module\n",
    "    for module_name, module in sys.modules.items()\n",
    "    if module_name.startswith(\"src.\")\n",
    "]\n",
    "\n",
    "for custom_module in custom_modules:\n",
    "    reload(custom_module)"
   ]
  },
  {
   "cell_type": "code",
   "execution_count": 239,
   "metadata": {},
   "outputs": [],
   "source": [
    "# Config\n",
    "\n",
    "experiment_name = \"Sentinel-2-data-analysis-and-preparation\"\n",
    "interim_dir, processed_dir = utils.make_experiment_dirs(experiment_name, models=False)\n",
    "\n",
    "sentinel_data_info_path = os.path.join(interim_dir, \"Sentinel-2_data_info.csv\")\n",
    "rgb_dir = os.path.join(processed_dir, \"RGB\")"
   ]
  },
  {
   "cell_type": "markdown",
   "metadata": {},
   "source": [
    "## 1. Территории и время съемки"
   ]
  },
  {
   "cell_type": "markdown",
   "metadata": {},
   "source": [
    "### Подготовка таблицы"
   ]
  },
  {
   "cell_type": "code",
   "execution_count": 191,
   "metadata": {},
   "outputs": [],
   "source": [
    "raw_data_listdir = os.listdir(config.RAW_DATA_DIR)\n",
    "sentinel_data_dirnames = [name for name in raw_data_listdir if name.startswith(\"SENTINEL-2\")]\n",
    "sentinel_data_paths = [os.path.join(config.RAW_DATA_DIR, dirname) for dirname in sentinel_data_dirnames]\n",
    "\n",
    "band2_paths = []\n",
    "fragment_counts = []\n",
    "for data_path in sentinel_data_paths:\n",
    "    files_list = [filename for filename in os.listdir(data_path) if filename.endswith('tif')]\n",
    "    band2_filenames = [name for name in files_list if \"channel2_\" in name]\n",
    "    fragment_counts.append(len(band2_filenames))\n",
    "    band2_filename = band2_filenames[0]\n",
    "    band2_paths.append(os.path.join(data_path, band2_filename))\n",
    "\n",
    "datetimes = []\n",
    "crss = []\n",
    "for path in band2_paths:\n",
    "    datetime_str = re.search('MSI_(.*)_channel', os.path.basename(path)).group(1)\n",
    "    datetime_obj = datetime.strptime(datetime_str, '%Y%m%d_%H%M%S')\n",
    "    datetimes.append(datetime_obj.strftime('%Y-%m-%d %H:%M:%S'))\n",
    "\n",
    "    with rio.open(path) as src_img:\n",
    "        crss.append(src_img.crs.to_string())"
   ]
  },
  {
   "cell_type": "code",
   "execution_count": 192,
   "metadata": {},
   "outputs": [],
   "source": [
    "info = pd.DataFrame(\n",
    "    {\n",
    "        \"dirname\": sentinel_data_dirnames,\n",
    "        \"datetime\": datetimes,\n",
    "        \"crs\": crss,\n",
    "        \"fragment_count\": fragment_counts\n",
    "    }\n",
    ")\n",
    "\n",
    "for i in range(1, info[\"fragment_count\"].max() + 1):\n",
    "    info[f\"fragment_{i}_left_x\"] = np.NaN\n",
    "    info[f\"fragment_{i}_top_y\"] = np.NaN\n",
    "\n",
    "info[\"left_x\"] = np.NaN\n",
    "info[\"top_y\"] = np.NaN"
   ]
  },
  {
   "cell_type": "code",
   "execution_count": 193,
   "metadata": {},
   "outputs": [],
   "source": [
    "for idx, data_path in enumerate(sentinel_data_paths):\n",
    "    files_list = [filename for filename in os.listdir(data_path) if filename.endswith('tif')]\n",
    "    band2_filenames = [name for name in files_list if \"channel2_\" in name]\n",
    "    for i, filename in enumerate(band2_filenames):\n",
    "        fragment_path = os.path.join(data_path, filename)\n",
    "        with rio.open(fragment_path) as src_img:\n",
    "            left_x, top_y = src_img.transform * (0, 0)\n",
    "            info.at[idx, f\"fragment_{i + 1}_left_x\"] = left_x\n",
    "            info.at[idx, f\"fragment_{i + 1}_top_y\"] = top_y\n",
    "    \n",
    "    info.at[idx, \"left_x\"] = info.loc[idx].filter(regex=\"left_x\").min()\n",
    "    info.at[idx, \"top_y\"] = info.loc[idx].filter(regex=\"top_y\").max()"
   ]
  },
  {
   "cell_type": "code",
   "execution_count": 194,
   "metadata": {},
   "outputs": [],
   "source": [
    "info.to_csv(sentinel_data_info_path)"
   ]
  },
  {
   "cell_type": "code",
   "execution_count": 195,
   "metadata": {},
   "outputs": [
    {
     "data": {
      "text/html": [
       "<div>\n",
       "<style scoped>\n",
       "    .dataframe tbody tr th:only-of-type {\n",
       "        vertical-align: middle;\n",
       "    }\n",
       "\n",
       "    .dataframe tbody tr th {\n",
       "        vertical-align: top;\n",
       "    }\n",
       "\n",
       "    .dataframe thead th {\n",
       "        text-align: right;\n",
       "    }\n",
       "</style>\n",
       "<table border=\"1\" class=\"dataframe\">\n",
       "  <thead>\n",
       "    <tr style=\"text-align: right;\">\n",
       "      <th></th>\n",
       "      <th>dirname</th>\n",
       "      <th>datetime</th>\n",
       "      <th>crs</th>\n",
       "      <th>fragment_count</th>\n",
       "      <th>fragment_1_left_x</th>\n",
       "      <th>fragment_1_top_y</th>\n",
       "      <th>fragment_2_left_x</th>\n",
       "      <th>fragment_2_top_y</th>\n",
       "      <th>fragment_3_left_x</th>\n",
       "      <th>fragment_3_top_y</th>\n",
       "      <th>fragment_4_left_x</th>\n",
       "      <th>fragment_4_top_y</th>\n",
       "      <th>left_x</th>\n",
       "      <th>top_y</th>\n",
       "    </tr>\n",
       "  </thead>\n",
       "  <tbody>\n",
       "    <tr>\n",
       "      <th>0</th>\n",
       "      <td>SENTINEL-2A_MSI_20200901_053433</td>\n",
       "      <td>2020-09-01 05:34:33</td>\n",
       "      <td>EPSG:32645</td>\n",
       "      <td>4</td>\n",
       "      <td>300000.0</td>\n",
       "      <td>5800020.0</td>\n",
       "      <td>399960.0</td>\n",
       "      <td>5800020.0</td>\n",
       "      <td>399960.0</td>\n",
       "      <td>5700000.0</td>\n",
       "      <td>300000.0</td>\n",
       "      <td>5700000.0</td>\n",
       "      <td>300000.0</td>\n",
       "      <td>5800020.0</td>\n",
       "    </tr>\n",
       "    <tr>\n",
       "      <th>1</th>\n",
       "      <td>SENTINEL-2A_MSI_20200921_053434</td>\n",
       "      <td>2020-09-21 05:34:34</td>\n",
       "      <td>EPSG:32645</td>\n",
       "      <td>4</td>\n",
       "      <td>399960.0</td>\n",
       "      <td>5700000.0</td>\n",
       "      <td>399960.0</td>\n",
       "      <td>5800020.0</td>\n",
       "      <td>300000.0</td>\n",
       "      <td>5800020.0</td>\n",
       "      <td>300000.0</td>\n",
       "      <td>5700000.0</td>\n",
       "      <td>300000.0</td>\n",
       "      <td>5800020.0</td>\n",
       "    </tr>\n",
       "    <tr>\n",
       "      <th>2</th>\n",
       "      <td>SENTINEL-2A_MSI_20201117_084357</td>\n",
       "      <td>2020-11-17 08:43:57</td>\n",
       "      <td>EPSG:32637</td>\n",
       "      <td>1</td>\n",
       "      <td>399960.0</td>\n",
       "      <td>6300000.0</td>\n",
       "      <td>NaN</td>\n",
       "      <td>NaN</td>\n",
       "      <td>NaN</td>\n",
       "      <td>NaN</td>\n",
       "      <td>NaN</td>\n",
       "      <td>NaN</td>\n",
       "      <td>399960.0</td>\n",
       "      <td>6300000.0</td>\n",
       "    </tr>\n",
       "    <tr>\n",
       "      <th>3</th>\n",
       "      <td>SENTINEL-2A_MSI_20210327_052418</td>\n",
       "      <td>2021-03-27 05:24:18</td>\n",
       "      <td>EPSG:32645</td>\n",
       "      <td>4</td>\n",
       "      <td>300000.0</td>\n",
       "      <td>5700000.0</td>\n",
       "      <td>300000.0</td>\n",
       "      <td>5800020.0</td>\n",
       "      <td>399960.0</td>\n",
       "      <td>5700000.0</td>\n",
       "      <td>399960.0</td>\n",
       "      <td>5800020.0</td>\n",
       "      <td>300000.0</td>\n",
       "      <td>5800020.0</td>\n",
       "    </tr>\n",
       "    <tr>\n",
       "      <th>4</th>\n",
       "      <td>SENTINEL-2A_MSI_20220524_053423</td>\n",
       "      <td>2022-05-24 05:34:23</td>\n",
       "      <td>EPSG:32645</td>\n",
       "      <td>4</td>\n",
       "      <td>300000.0</td>\n",
       "      <td>5800020.0</td>\n",
       "      <td>300000.0</td>\n",
       "      <td>5700000.0</td>\n",
       "      <td>399960.0</td>\n",
       "      <td>5800020.0</td>\n",
       "      <td>399960.0</td>\n",
       "      <td>5700000.0</td>\n",
       "      <td>300000.0</td>\n",
       "      <td>5800020.0</td>\n",
       "    </tr>\n",
       "    <tr>\n",
       "      <th>5</th>\n",
       "      <td>SENTINEL-2B_MSI_20190425_085420</td>\n",
       "      <td>2019-04-25 08:54:20</td>\n",
       "      <td>EPSG:32637</td>\n",
       "      <td>1</td>\n",
       "      <td>399960.0</td>\n",
       "      <td>6300000.0</td>\n",
       "      <td>NaN</td>\n",
       "      <td>NaN</td>\n",
       "      <td>NaN</td>\n",
       "      <td>NaN</td>\n",
       "      <td>NaN</td>\n",
       "      <td>NaN</td>\n",
       "      <td>399960.0</td>\n",
       "      <td>6300000.0</td>\n",
       "    </tr>\n",
       "    <tr>\n",
       "      <th>6</th>\n",
       "      <td>SENTINEL-2B_MSI_20190813_053920</td>\n",
       "      <td>2019-08-13 05:39:20</td>\n",
       "      <td>EPSG:32645</td>\n",
       "      <td>4</td>\n",
       "      <td>399960.0</td>\n",
       "      <td>5700000.0</td>\n",
       "      <td>300000.0</td>\n",
       "      <td>5700000.0</td>\n",
       "      <td>300000.0</td>\n",
       "      <td>5800020.0</td>\n",
       "      <td>399960.0</td>\n",
       "      <td>5800020.0</td>\n",
       "      <td>300000.0</td>\n",
       "      <td>5800020.0</td>\n",
       "    </tr>\n",
       "    <tr>\n",
       "      <th>7</th>\n",
       "      <td>SENTINEL-2B_MSI_20210325_085404</td>\n",
       "      <td>2021-03-25 08:54:04</td>\n",
       "      <td>EPSG:32637</td>\n",
       "      <td>1</td>\n",
       "      <td>399960.0</td>\n",
       "      <td>6300000.0</td>\n",
       "      <td>NaN</td>\n",
       "      <td>NaN</td>\n",
       "      <td>NaN</td>\n",
       "      <td>NaN</td>\n",
       "      <td>NaN</td>\n",
       "      <td>NaN</td>\n",
       "      <td>399960.0</td>\n",
       "      <td>6300000.0</td>\n",
       "    </tr>\n",
       "    <tr>\n",
       "      <th>8</th>\n",
       "      <td>SENTINEL-2B_MSI_20210511_084252</td>\n",
       "      <td>2021-05-11 08:42:52</td>\n",
       "      <td>EPSG:32637</td>\n",
       "      <td>1</td>\n",
       "      <td>399960.0</td>\n",
       "      <td>6300000.0</td>\n",
       "      <td>NaN</td>\n",
       "      <td>NaN</td>\n",
       "      <td>NaN</td>\n",
       "      <td>NaN</td>\n",
       "      <td>NaN</td>\n",
       "      <td>NaN</td>\n",
       "      <td>399960.0</td>\n",
       "      <td>6300000.0</td>\n",
       "    </tr>\n",
       "    <tr>\n",
       "      <th>9</th>\n",
       "      <td>SENTINEL-2B_MSI_20210531_052344</td>\n",
       "      <td>2021-05-31 05:23:44</td>\n",
       "      <td>EPSG:32645</td>\n",
       "      <td>4</td>\n",
       "      <td>300000.0</td>\n",
       "      <td>5700000.0</td>\n",
       "      <td>399960.0</td>\n",
       "      <td>5700000.0</td>\n",
       "      <td>300000.0</td>\n",
       "      <td>5800020.0</td>\n",
       "      <td>399960.0</td>\n",
       "      <td>5800020.0</td>\n",
       "      <td>300000.0</td>\n",
       "      <td>5800020.0</td>\n",
       "    </tr>\n",
       "    <tr>\n",
       "      <th>10</th>\n",
       "      <td>SENTINEL-2B_MSI_20210703_053405</td>\n",
       "      <td>2021-07-03 05:34:05</td>\n",
       "      <td>EPSG:32645</td>\n",
       "      <td>4</td>\n",
       "      <td>399960.0</td>\n",
       "      <td>5700000.0</td>\n",
       "      <td>300000.0</td>\n",
       "      <td>5800020.0</td>\n",
       "      <td>399960.0</td>\n",
       "      <td>5800020.0</td>\n",
       "      <td>300000.0</td>\n",
       "      <td>5700000.0</td>\n",
       "      <td>300000.0</td>\n",
       "      <td>5800020.0</td>\n",
       "    </tr>\n",
       "    <tr>\n",
       "      <th>11</th>\n",
       "      <td>SENTINEL-2B_MSI_20211008_084414</td>\n",
       "      <td>2021-10-08 08:44:14</td>\n",
       "      <td>EPSG:32637</td>\n",
       "      <td>1</td>\n",
       "      <td>399960.0</td>\n",
       "      <td>6300000.0</td>\n",
       "      <td>NaN</td>\n",
       "      <td>NaN</td>\n",
       "      <td>NaN</td>\n",
       "      <td>NaN</td>\n",
       "      <td>NaN</td>\n",
       "      <td>NaN</td>\n",
       "      <td>399960.0</td>\n",
       "      <td>6300000.0</td>\n",
       "    </tr>\n",
       "  </tbody>\n",
       "</table>\n",
       "</div>"
      ],
      "text/plain": [
       "                            dirname             datetime         crs  \\\n",
       "0   SENTINEL-2A_MSI_20200901_053433  2020-09-01 05:34:33  EPSG:32645   \n",
       "1   SENTINEL-2A_MSI_20200921_053434  2020-09-21 05:34:34  EPSG:32645   \n",
       "2   SENTINEL-2A_MSI_20201117_084357  2020-11-17 08:43:57  EPSG:32637   \n",
       "3   SENTINEL-2A_MSI_20210327_052418  2021-03-27 05:24:18  EPSG:32645   \n",
       "4   SENTINEL-2A_MSI_20220524_053423  2022-05-24 05:34:23  EPSG:32645   \n",
       "5   SENTINEL-2B_MSI_20190425_085420  2019-04-25 08:54:20  EPSG:32637   \n",
       "6   SENTINEL-2B_MSI_20190813_053920  2019-08-13 05:39:20  EPSG:32645   \n",
       "7   SENTINEL-2B_MSI_20210325_085404  2021-03-25 08:54:04  EPSG:32637   \n",
       "8   SENTINEL-2B_MSI_20210511_084252  2021-05-11 08:42:52  EPSG:32637   \n",
       "9   SENTINEL-2B_MSI_20210531_052344  2021-05-31 05:23:44  EPSG:32645   \n",
       "10  SENTINEL-2B_MSI_20210703_053405  2021-07-03 05:34:05  EPSG:32645   \n",
       "11  SENTINEL-2B_MSI_20211008_084414  2021-10-08 08:44:14  EPSG:32637   \n",
       "\n",
       "    fragment_count  fragment_1_left_x  fragment_1_top_y  fragment_2_left_x  \\\n",
       "0                4           300000.0         5800020.0           399960.0   \n",
       "1                4           399960.0         5700000.0           399960.0   \n",
       "2                1           399960.0         6300000.0                NaN   \n",
       "3                4           300000.0         5700000.0           300000.0   \n",
       "4                4           300000.0         5800020.0           300000.0   \n",
       "5                1           399960.0         6300000.0                NaN   \n",
       "6                4           399960.0         5700000.0           300000.0   \n",
       "7                1           399960.0         6300000.0                NaN   \n",
       "8                1           399960.0         6300000.0                NaN   \n",
       "9                4           300000.0         5700000.0           399960.0   \n",
       "10               4           399960.0         5700000.0           300000.0   \n",
       "11               1           399960.0         6300000.0                NaN   \n",
       "\n",
       "    fragment_2_top_y  fragment_3_left_x  fragment_3_top_y  fragment_4_left_x  \\\n",
       "0          5800020.0           399960.0         5700000.0           300000.0   \n",
       "1          5800020.0           300000.0         5800020.0           300000.0   \n",
       "2                NaN                NaN               NaN                NaN   \n",
       "3          5800020.0           399960.0         5700000.0           399960.0   \n",
       "4          5700000.0           399960.0         5800020.0           399960.0   \n",
       "5                NaN                NaN               NaN                NaN   \n",
       "6          5700000.0           300000.0         5800020.0           399960.0   \n",
       "7                NaN                NaN               NaN                NaN   \n",
       "8                NaN                NaN               NaN                NaN   \n",
       "9          5700000.0           300000.0         5800020.0           399960.0   \n",
       "10         5800020.0           399960.0         5800020.0           300000.0   \n",
       "11               NaN                NaN               NaN                NaN   \n",
       "\n",
       "    fragment_4_top_y    left_x      top_y  \n",
       "0          5700000.0  300000.0  5800020.0  \n",
       "1          5700000.0  300000.0  5800020.0  \n",
       "2                NaN  399960.0  6300000.0  \n",
       "3          5800020.0  300000.0  5800020.0  \n",
       "4          5700000.0  300000.0  5800020.0  \n",
       "5                NaN  399960.0  6300000.0  \n",
       "6          5800020.0  300000.0  5800020.0  \n",
       "7                NaN  399960.0  6300000.0  \n",
       "8                NaN  399960.0  6300000.0  \n",
       "9          5800020.0  300000.0  5800020.0  \n",
       "10         5700000.0  300000.0  5800020.0  \n",
       "11               NaN  399960.0  6300000.0  "
      ]
     },
     "execution_count": 195,
     "metadata": {},
     "output_type": "execute_result"
    }
   ],
   "source": [
    "info = pd.read_csv(sentinel_data_info_path, index_col=0)\n",
    "info"
   ]
  },
  {
   "cell_type": "markdown",
   "metadata": {},
   "source": [
    "### Информация"
   ]
  },
  {
   "cell_type": "markdown",
   "metadata": {},
   "source": [
    "Количество снимков Sentinel-2"
   ]
  },
  {
   "cell_type": "code",
   "execution_count": 196,
   "metadata": {},
   "outputs": [
    {
     "data": {
      "text/plain": [
       "12"
      ]
     },
     "execution_count": 196,
     "metadata": {},
     "output_type": "execute_result"
    }
   ],
   "source": [
    "n_images = len(info)\n",
    "n_images"
   ]
  },
  {
   "cell_type": "markdown",
   "metadata": {},
   "source": [
    "Координаты левых верхних точек территорий, для которых имеются снимки"
   ]
  },
  {
   "cell_type": "code",
   "execution_count": 197,
   "metadata": {},
   "outputs": [
    {
     "name": "stdout",
     "output_type": "stream",
     "text": [
      "(300000.0, 5800020.0)\n",
      "(399960.0, 6300000.0)\n"
     ]
    }
   ],
   "source": [
    "territories = np.unique(info[[\"left_x\", \"top_y\"]], axis=0)\n",
    "for x, y in territories:\n",
    "    print(f\"({x}, {y})\")"
   ]
  },
  {
   "cell_type": "markdown",
   "metadata": {},
   "source": [
    "Даты, за которые имеются снимки для каждой территории"
   ]
  },
  {
   "cell_type": "code",
   "execution_count": 202,
   "metadata": {},
   "outputs": [
    {
     "name": "stdout",
     "output_type": "stream",
     "text": [
      "Координаты: (300000.0, 5800020.0), CRS: ['EPSG:32645'], количество фрагментов: [4], 7 снимков:\n",
      "\t2019-08-13 05:39:20\n",
      "\t2020-09-01 05:34:33\n",
      "\t2020-09-21 05:34:34\n",
      "\t2021-03-27 05:24:18\n",
      "\t2021-05-31 05:23:44\n",
      "\t2021-07-03 05:34:05\n",
      "\t2022-05-24 05:34:23\n",
      "Координаты: (399960.0, 6300000.0), CRS: ['EPSG:32637'], количество фрагментов: [1], 5 снимков:\n",
      "\t2019-04-25 08:54:20\n",
      "\t2020-11-17 08:43:57\n",
      "\t2021-03-25 08:54:04\n",
      "\t2021-05-11 08:42:52\n",
      "\t2021-10-08 08:44:14\n"
     ]
    }
   ],
   "source": [
    "for x, y in territories:\n",
    "    selection = info[(info[\"left_x\"] == x) & (info[\"top_y\"] == y)]\n",
    "    crs = np.unique(selection[\"crs\"])\n",
    "    fragment_count = np.unique(selection[\"fragment_count\"])\n",
    "    print(f\"Координаты: ({x}, {y}), CRS: {crs}, количество фрагментов: {fragment_count}, {len(selection)} снимков:\")\n",
    "    for dt in selection[\"datetime\"].sort_values():\n",
    "        print(f\"\\t{dt}\")"
   ]
  },
  {
   "cell_type": "markdown",
   "metadata": {},
   "source": [
    "## 2. Формирование RGB-композитов"
   ]
  },
  {
   "cell_type": "code",
   "execution_count": 236,
   "metadata": {},
   "outputs": [
    {
     "name": "stdout",
     "output_type": "stream",
     "text": [
      "CPU times: total: 2min 10s\n",
      "Wall time: 5min 21s\n"
     ]
    }
   ],
   "source": [
    "%%time\n",
    "\n",
    "data_dirs = list(info[\"dirname\"])\n",
    "for data_dir in data_dirs:\n",
    "    data_path = os.path.join(config.RAW_DATA_DIR, data_dir)\n",
    "    fragment_count = int(info[info[\"dirname\"] == data_dir][\"fragment_count\"])\n",
    "    bands = [4, 3, 2]  # Red, Green, Blue\n",
    "    for fragment in range(1, fragment_count + 1):\n",
    "        bands_paths = [os.path.join(data_path, f\"{data_dir}_channel{band}_{fragment}.tif\") for band in bands]\n",
    "        rgb_path = os.path.join(rgb_dir, f\"{data_dir}_{fragment}_RGB.tif\")\n",
    "        utils.combine_bands(bands_paths, rgb_path)"
   ]
  },
  {
   "cell_type": "markdown",
   "metadata": {},
   "source": [
    "## 3."
   ]
  },
  {
   "cell_type": "code",
   "execution_count": null,
   "metadata": {},
   "outputs": [],
   "source": []
  }
 ],
 "metadata": {
  "kernelspec": {
   "display_name": "Python 3.11.0 ('venv': venv)",
   "language": "python",
   "name": "python3"
  },
  "language_info": {
   "codemirror_mode": {
    "name": "ipython",
    "version": 3
   },
   "file_extension": ".py",
   "mimetype": "text/x-python",
   "name": "python",
   "nbconvert_exporter": "python",
   "pygments_lexer": "ipython3",
   "version": "3.11.0"
  },
  "orig_nbformat": 4,
  "vscode": {
   "interpreter": {
    "hash": "4df405999b4adf467a478a18e383e11bcaffa200617f6a4135c282d0db4cab9f"
   }
  }
 },
 "nbformat": 4,
 "nbformat_minor": 2
}
