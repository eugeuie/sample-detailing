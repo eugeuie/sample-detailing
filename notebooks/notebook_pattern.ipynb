{
 "cells": [
  {
   "cell_type": "markdown",
   "metadata": {},
   "source": [
    "# Experiment title\n",
    "\n",
    "Description, tasks"
   ]
  },
  {
   "cell_type": "markdown",
   "metadata": {},
   "source": [
    "## Imports & configs"
   ]
  },
  {
   "cell_type": "code",
   "execution_count": 1,
   "metadata": {},
   "outputs": [],
   "source": [
    "# Imports\n",
    "\n",
    "...\n",
    "\n",
    "# Importing and reloading custom modules\n",
    "\n",
    "import os, sys\n",
    "from importlib import reload\n",
    "\n",
    "BASE_DIR = os.path.dirname(os.getcwd())\n",
    "if BASE_DIR not in sys.path:\n",
    "    sys.path.append(BASE_DIR)\n",
    "\n",
    "from src import config\n",
    "\n",
    "custom_modules = [\n",
    "    module\n",
    "    for module_name, module in sys.modules.items()\n",
    "    if module_name.startswith(\"src.\")\n",
    "]\n",
    "\n",
    "for custom_module in custom_modules:\n",
    "    reload(custom_module)"
   ]
  },
  {
   "cell_type": "code",
   "execution_count": null,
   "metadata": {},
   "outputs": [],
   "source": [
    "# Config\n",
    "\n",
    "experiment_name = \"MODIS-2020-sample-preparation-and-analysis\"\n",
    "\n",
    "..."
   ]
  },
  {
   "cell_type": "markdown",
   "metadata": {},
   "source": [
    "## 1. "
   ]
  }
 ],
 "metadata": {
  "kernelspec": {
   "display_name": "Python 3.11.0 ('venv': venv)",
   "language": "python",
   "name": "python3"
  },
  "language_info": {
   "codemirror_mode": {
    "name": "ipython",
    "version": 3
   },
   "file_extension": ".py",
   "mimetype": "text/x-python",
   "name": "python",
   "nbconvert_exporter": "python",
   "pygments_lexer": "ipython3",
   "version": "3.11.0"
  },
  "orig_nbformat": 4,
  "vscode": {
   "interpreter": {
    "hash": "4df405999b4adf467a478a18e383e11bcaffa200617f6a4135c282d0db4cab9f"
   }
  }
 },
 "nbformat": 4,
 "nbformat_minor": 2
}
